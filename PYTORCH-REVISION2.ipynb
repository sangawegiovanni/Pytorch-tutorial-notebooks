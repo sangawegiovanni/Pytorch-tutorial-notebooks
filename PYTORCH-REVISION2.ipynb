{
 "cells": [
  {
   "cell_type": "markdown",
   "id": "e7402081",
   "metadata": {},
   "source": [
    "TENSORS AND OPERATION (DEEP DIVE)\n",
    "\n",
    "1 MULTIDIMENSIONAL TENSORS\n",
    "\n",
    "0D- Scalar - torch.tensor(5)\n",
    "1D - vector - torch.tensor([1,2,3])\n",
    "2D -Matrix  - torch.tensor([1,2],[3,4])\n",
    "3D -Stack of matrices - torch.tensor([[[1,2],[3,4],[5,6],[7,8]]])"
   ]
  },
  {
   "cell_type": "code",
   "execution_count": 32,
   "id": "9d75c3ea",
   "metadata": {},
   "outputs": [],
   "source": [
    "import torch"
   ]
  },
  {
   "cell_type": "code",
   "execution_count": 33,
   "id": "3a101ef7",
   "metadata": {},
   "outputs": [],
   "source": [
    "x=torch.tensor([1.0,2.0,3.0])\n",
    "y=torch.tensor([2.0,3.0,4.0])\n",
    "\n",
    "z=x+y\n",
    "z=x*y"
   ]
  },
  {
   "cell_type": "code",
   "execution_count": 34,
   "id": "7c181aa4",
   "metadata": {},
   "outputs": [
    {
     "data": {
      "text/plain": [
       "tensor([ 2.,  6., 12.])"
      ]
     },
     "execution_count": 34,
     "metadata": {},
     "output_type": "execute_result"
    }
   ],
   "source": [
    "z"
   ]
  },
  {
   "cell_type": "code",
   "execution_count": 35,
   "id": "440cb36b",
   "metadata": {},
   "outputs": [
    {
     "name": "stdout",
     "output_type": "stream",
     "text": [
      "tensor([[27, 30],\n",
      "        [78, 87]])\n"
     ]
    }
   ],
   "source": [
    "a=torch.tensor([[1,2],[4,5]])\n",
    "b=torch.tensor([[7,8],[10,11]])\n",
    "c=torch.matmul(a,b)\n",
    "\n",
    "print(c)"
   ]
  },
  {
   "cell_type": "code",
   "execution_count": 36,
   "id": "ed35db4b",
   "metadata": {},
   "outputs": [
    {
     "name": "stdout",
     "output_type": "stream",
     "text": [
      "tensor([4., 6., 8.])\n"
     ]
    }
   ],
   "source": [
    "x=torch.tensor([1.0,2.0,3.0],requires_grad=True)\n",
    "y=x**2+2*x+1\n",
    "y.sum().backward()\n",
    "print(x.grad)"
   ]
  },
  {
   "cell_type": "markdown",
   "id": "88b17bd8",
   "metadata": {},
   "source": [
    "2-LAYER LINEAR NETWORK\n"
   ]
  },
  {
   "cell_type": "markdown",
   "id": "8bfeeefa",
   "metadata": {},
   "source": [
    "y=2x^2+3x+1"
   ]
  },
  {
   "cell_type": "code",
   "execution_count": 37,
   "id": "a7445dac",
   "metadata": {},
   "outputs": [],
   "source": [
    "import torch\n",
    "import torch.nn as nn\n",
    "import torch.optim as optim"
   ]
  },
  {
   "cell_type": "code",
   "execution_count": 38,
   "id": "87e74852",
   "metadata": {},
   "outputs": [],
   "source": [
    "X=torch.tensor([[1.0],[2.0],[3.0],[4.0]])\n",
    "Y=torch.tensor([[6.0],[15.0],[28.0],[45.0]])"
   ]
  },
  {
   "cell_type": "code",
   "execution_count": 39,
   "id": "6afa955c",
   "metadata": {},
   "outputs": [],
   "source": [
    "class TwoLayerNN(nn.Module):\n",
    "    def __init__(self):\n",
    "        super(TwoLayerNN,self).__init__()\n",
    "        self.hidden=nn.Linear(1,5)\n",
    "        self.relu=nn.ReLU()\n",
    "        self.output=nn.Linear(5,1)\n",
    "    def forward(self,x):\n",
    "        x=self.hidden(x)\n",
    "        x=self.relu(x)\n",
    "        x=self.output(x)\n",
    "        return x    "
   ]
  },
  {
   "cell_type": "code",
   "execution_count": 40,
   "id": "d5719afa",
   "metadata": {},
   "outputs": [],
   "source": [
    "model=TwoLayerNN()"
   ]
  },
  {
   "cell_type": "code",
   "execution_count": 47,
   "id": "6e5dbc40",
   "metadata": {},
   "outputs": [],
   "source": [
    "loss_fn=nn.MSELoss()\n",
    "optimizer=optim.SGD(params=model.parameters(),lr=0.00001)"
   ]
  },
  {
   "cell_type": "code",
   "execution_count": 48,
   "id": "d7d50188",
   "metadata": {},
   "outputs": [
    {
     "name": "stdout",
     "output_type": "stream",
     "text": [
      "Epoch :200, | Loss : 3.1416430473327637\n",
      "Epoch :400, | Loss : 3.1368491649627686\n",
      "Epoch :600, | Loss : 3.1320571899414062\n",
      "Epoch :800, | Loss : 3.1272714138031006\n",
      "Epoch :1000, | Loss : 3.1224892139434814\n",
      "Epoch :1200, | Loss : 3.11771297454834\n",
      "Epoch :1400, | Loss : 3.1129403114318848\n",
      "Epoch :1600, | Loss : 3.108173370361328\n",
      "Epoch :1800, | Loss : 3.103410243988037\n",
      "Epoch :2000, | Loss : 3.0986521244049072\n"
     ]
    }
   ],
   "source": [
    "epochs=2000\n",
    "\n",
    "for epoch in range(epochs):\n",
    "    model.train()\n",
    "    y_pred=model(X)\n",
    "    \n",
    "    loss=loss_fn(y_pred,Y)\n",
    "    optimizer.zero_grad()\n",
    "    loss.backward()\n",
    "    optimizer.step()\n",
    "\n",
    "    if (epoch+1)%200 == 0:\n",
    "        print(f\"Epoch :{epoch+1}, | Loss : {loss.item()}\")\n",
    "\n",
    "\n",
    "\n",
    "          \n",
    "\n",
    "\n"
   ]
  },
  {
   "cell_type": "code",
   "execution_count": 49,
   "id": "214f5769",
   "metadata": {},
   "outputs": [
    {
     "name": "stdout",
     "output_type": "stream",
     "text": [
      "tensor([[ 9.1144],\n",
      "        [14.1829],\n",
      "        [29.2897],\n",
      "        [44.3965]])\n"
     ]
    }
   ],
   "source": [
    "with torch.no_grad():\n",
    "    prediction=model(X)\n",
    "\n",
    "    print(prediction)"
   ]
  },
  {
   "cell_type": "code",
   "execution_count": null,
   "id": "bdbcb2be",
   "metadata": {},
   "outputs": [],
   "source": []
  }
 ],
 "metadata": {
  "kernelspec": {
   "display_name": "Mchili's 310 venv",
   "language": "python",
   "name": "myenv310"
  },
  "language_info": {
   "codemirror_mode": {
    "name": "ipython",
    "version": 3
   },
   "file_extension": ".py",
   "mimetype": "text/x-python",
   "name": "python",
   "nbconvert_exporter": "python",
   "pygments_lexer": "ipython3",
   "version": "3.10.18"
  }
 },
 "nbformat": 4,
 "nbformat_minor": 5
}
