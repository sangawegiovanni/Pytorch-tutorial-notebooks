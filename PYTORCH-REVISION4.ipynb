{
 "cells": [
  {
   "cell_type": "markdown",
   "id": "c6b8049c",
   "metadata": {},
   "source": [
    "PYTORCH DATASET AND DATALOADER\n",
    "\n",
    "Dataset: a way to store your data (inputs and labels)\n",
    "\n",
    "DataLoader : allows batching shuffling and iterating  over the dataset efficiently\n",
    "\n",
    "\n",
    "\n"
   ]
  },
  {
   "cell_type": "code",
   "execution_count": 1,
   "id": "d0c21c88",
   "metadata": {},
   "outputs": [],
   "source": [
    "from torch.utils.data import Dataset, DataLoader\n",
    "import torch"
   ]
  },
  {
   "cell_type": "code",
   "execution_count": 3,
   "id": "0a57b4cd",
   "metadata": {},
   "outputs": [],
   "source": [
    "class MyDataset(Dataset):\n",
    "    def __init__(self):\n",
    "        self.x=torch.Tensor([[1.0],[2.0],[3.0],[4.0]])\n",
    "        self.y=torch.Tensor([[1.0],[2.0],[3.0],[4.0]])\n",
    "\n",
    "    def __len__(self):\n",
    "        return len (self.x)\n",
    "    def __getitem__(self, idx):\n",
    "        return self.x[idx],self.y[idx]\n",
    "    \n",
    "dataset=MyDataset()\n",
    "dataloader=DataLoader(dataset,batch_size=2,shuffle=True)    "
   ]
  },
  {
   "cell_type": "code",
   "execution_count": null,
   "id": "a825e1b1",
   "metadata": {},
   "outputs": [],
   "source": []
  }
 ],
 "metadata": {
  "kernelspec": {
   "display_name": "Mchili's 310 venv",
   "language": "python",
   "name": "myenv310"
  },
  "language_info": {
   "codemirror_mode": {
    "name": "ipython",
    "version": 3
   },
   "file_extension": ".py",
   "mimetype": "text/x-python",
   "name": "python",
   "nbconvert_exporter": "python",
   "pygments_lexer": "ipython3",
   "version": "3.10.18"
  }
 },
 "nbformat": 4,
 "nbformat_minor": 5
}
