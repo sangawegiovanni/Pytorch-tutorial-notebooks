{
 "cells": [
  {
   "cell_type": "code",
   "execution_count": 1,
   "id": "e5d955d4",
   "metadata": {},
   "outputs": [],
   "source": [
    "import torch"
   ]
  },
  {
   "cell_type": "code",
   "execution_count": 4,
   "id": "46bd6036",
   "metadata": {},
   "outputs": [
    {
     "name": "stdout",
     "output_type": "stream",
     "text": [
      "Scalar tensor(5)\n",
      "Vector tensor([4, 3, 2])\n",
      "Matrix tensor([[3, 3, 2],\n",
      "        [5, 3, 7]])\n",
      "Tensor torch.Size([2, 3, 4])\n"
     ]
    }
   ],
   "source": [
    "scalar=torch.tensor(5)\n",
    "vector=torch.tensor([4,3,2])\n",
    "matrix=torch.tensor([[3,3,2],[5,3,7]])\n",
    "tensor=torch.rand(2,3,4)\n",
    "\n",
    "print(\"Scalar\",scalar)\n",
    "print(\"Vector\",vector)\n",
    "print(\"Matrix\",matrix)\n",
    "print(\"Tensor\",tensor.shape)"
   ]
  },
  {
   "cell_type": "code",
   "execution_count": 8,
   "id": "0afc5c59",
   "metadata": {},
   "outputs": [
    {
     "name": "stdout",
     "output_type": "stream",
     "text": [
      "tensor(15.)\n"
     ]
    }
   ],
   "source": [
    "x=torch.tensor(3.0,requires_grad=True)\n",
    "y=2*x**2+3*x+5\n",
    "y.backward()\n",
    "print(x.grad)"
   ]
  },
  {
   "cell_type": "code",
   "execution_count": 9,
   "id": "98436ce2",
   "metadata": {},
   "outputs": [
    {
     "name": "stdout",
     "output_type": "stream",
     "text": [
      "Value of Y: 32.0\n"
     ]
    }
   ],
   "source": [
    "print(\"Value of Y:\",y.item())"
   ]
  },
  {
   "cell_type": "markdown",
   "id": "ed8d2210",
   "metadata": {},
   "source": [
    "PYTORCH BUILDING BLOCKS"
   ]
  },
  {
   "cell_type": "markdown",
   "id": "d8b5f314",
   "metadata": {},
   "source": [
    "1. MODEL-Defines how the system looks like\n",
    "2. Loss function - measures how wrong the model is\n",
    "3.Optimizer - adjusts the parameters to make it a smarter one"
   ]
  },
  {
   "cell_type": "markdown",
   "id": "b22bf22e",
   "metadata": {},
   "source": [
    "THE MODEL\n",
    "\n",
    "__init__():Building the Robots (eyes,sensors)\n",
    "forward: What happens When you give it input"
   ]
  },
  {
   "cell_type": "code",
   "execution_count": 11,
   "id": "4407b9c1",
   "metadata": {},
   "outputs": [],
   "source": [
    "import torch.nn as nn"
   ]
  },
  {
   "cell_type": "code",
   "execution_count": 21,
   "id": "9923e94d",
   "metadata": {},
   "outputs": [],
   "source": [
    "class LinearRegression(nn.Module):\n",
    "    def __init__(self):\n",
    "        super().__init__()\n",
    "        self.linear=nn.Linear(1,1)\n",
    "\n",
    "    def forward(self , x):\n",
    "        return self.linear(x)\n",
    "    "
   ]
  },
  {
   "cell_type": "code",
   "execution_count": 22,
   "id": "01f7980d",
   "metadata": {},
   "outputs": [],
   "source": [
    "Weight=0.7\n",
    "Bias = 0.3\n",
    "X=torch.arange(0,1,0.02).unsqueeze(1)\n",
    "Y=Weight*X+Bias"
   ]
  },
  {
   "cell_type": "code",
   "execution_count": 23,
   "id": "a692b81e",
   "metadata": {},
   "outputs": [],
   "source": [
    "model=LinearRegression()"
   ]
  },
  {
   "cell_type": "code",
   "execution_count": 24,
   "id": "3807838d",
   "metadata": {},
   "outputs": [],
   "source": [
    "import torch.optim as optim"
   ]
  },
  {
   "cell_type": "code",
   "execution_count": 25,
   "id": "a1061232",
   "metadata": {},
   "outputs": [],
   "source": [
    "loss_fn=nn.MSELoss()\n",
    "optimizer=optim.SGD(model.parameters(),lr=0.01)"
   ]
  },
  {
   "cell_type": "code",
   "execution_count": 26,
   "id": "255763d2",
   "metadata": {},
   "outputs": [
    {
     "name": "stdout",
     "output_type": "stream",
     "text": [
      "Epoch: 0 Loss: tensor(0.1118, grad_fn=<MseLossBackward0>)\n",
      "Epoch: 50 Loss: tensor(0.0094, grad_fn=<MseLossBackward0>)\n",
      "Epoch: 100 Loss: tensor(0.0013, grad_fn=<MseLossBackward0>)\n",
      "Epoch: 150 Loss: tensor(0.0006, grad_fn=<MseLossBackward0>)\n",
      "Epoch: 200 Loss: tensor(0.0005, grad_fn=<MseLossBackward0>)\n",
      "Epoch: 250 Loss: tensor(0.0004, grad_fn=<MseLossBackward0>)\n",
      "Epoch: 300 Loss: tensor(0.0004, grad_fn=<MseLossBackward0>)\n",
      "Epoch: 350 Loss: tensor(0.0003, grad_fn=<MseLossBackward0>)\n",
      "Epoch: 400 Loss: tensor(0.0003, grad_fn=<MseLossBackward0>)\n",
      "Epoch: 450 Loss: tensor(0.0002, grad_fn=<MseLossBackward0>)\n",
      "Epoch: 500 Loss: tensor(0.0002, grad_fn=<MseLossBackward0>)\n",
      "Epoch: 550 Loss: tensor(0.0002, grad_fn=<MseLossBackward0>)\n",
      "Epoch: 600 Loss: tensor(0.0002, grad_fn=<MseLossBackward0>)\n",
      "Epoch: 650 Loss: tensor(0.0001, grad_fn=<MseLossBackward0>)\n",
      "Epoch: 700 Loss: tensor(0.0001, grad_fn=<MseLossBackward0>)\n",
      "Epoch: 750 Loss: tensor(0.0001, grad_fn=<MseLossBackward0>)\n",
      "Epoch: 800 Loss: tensor(9.3274e-05, grad_fn=<MseLossBackward0>)\n",
      "Epoch: 850 Loss: tensor(8.1690e-05, grad_fn=<MseLossBackward0>)\n",
      "Epoch: 900 Loss: tensor(7.1545e-05, grad_fn=<MseLossBackward0>)\n",
      "Epoch: 950 Loss: tensor(6.2659e-05, grad_fn=<MseLossBackward0>)\n"
     ]
    }
   ],
   "source": [
    "epochs=1000\n",
    "\n",
    "for epoch in range(epochs):\n",
    "    model.train()\n",
    "    y_pred=model(X)\n",
    "    loss=loss_fn(y_pred,Y)\n",
    "    optimizer.zero_grad()\n",
    "    loss.backward()\n",
    "    optimizer.step()\n",
    "\n",
    "    if epoch % 50 == 0:\n",
    "        print(\"Epoch:\",epoch,\"Loss:\",loss)\n",
    "\n",
    "        \n",
    "\n"
   ]
  },
  {
   "cell_type": "code",
   "execution_count": 27,
   "id": "37b89534",
   "metadata": {},
   "outputs": [
    {
     "data": {
      "text/plain": [
       "OrderedDict([('linear.weight', tensor([[0.6745]])),\n",
       "             ('linear.bias', tensor([0.3134]))])"
      ]
     },
     "execution_count": 27,
     "metadata": {},
     "output_type": "execute_result"
    }
   ],
   "source": [
    "model.state_dict()"
   ]
  },
  {
   "cell_type": "code",
   "execution_count": null,
   "id": "54b83dad",
   "metadata": {},
   "outputs": [],
   "source": []
  }
 ],
 "metadata": {
  "kernelspec": {
   "display_name": "Mchili's 310 venv",
   "language": "python",
   "name": "myenv310"
  },
  "language_info": {
   "codemirror_mode": {
    "name": "ipython",
    "version": 3
   },
   "file_extension": ".py",
   "mimetype": "text/x-python",
   "name": "python",
   "nbconvert_exporter": "python",
   "pygments_lexer": "ipython3",
   "version": "3.10.18"
  }
 },
 "nbformat": 4,
 "nbformat_minor": 5
}
